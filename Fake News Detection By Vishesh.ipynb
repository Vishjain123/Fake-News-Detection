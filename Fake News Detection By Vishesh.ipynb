{
  "nbformat": 4,
  "nbformat_minor": 0,
  "metadata": {
    "colab": {
      "name": "DS303-Project_Classification of news.ipynb",
      "provenance": [],
      "collapsed_sections": []
    },
    "kernelspec": {
      "name": "python3",
      "display_name": "Python 3"
    },
    "language_info": {
      "name": "python"
    },
    "accelerator": "GPU"
  },
  "cells": [
    {
      "cell_type": "code",
      "metadata": {
        "id": "C6-N0y611nEU"
      },
      "source": [
        "import re\n",
        "import pandas as pd\n",
        "import numpy as np\n",
        "from nltk.tokenize import word_tokenize\n",
        "from nltk.corpus import stopwords\n",
        "from sklearn.feature_extraction.text import CountVectorizer\n",
        "from sklearn.naive_bayes import MultinomialNB\n",
        "from sklearn.model_selection import train_test_split\n",
        "import matplotlib.pyplot as plt\n",
        "from sklearn.utils import shuffle\n",
        "from sklearn.metrics import confusion_matrix\n",
        "import string\n",
        "import nltk\n",
        "import seaborn as sns\n",
        "import io\n",
        "!pip install -U -q PyDrive\n",
        "  \n",
        "from pydrive.auth import GoogleAuth\n",
        "from pydrive.drive import GoogleDrive\n",
        "from google.colab import auth\n",
        "from oauth2client.client import GoogleCredentials\n",
        "  \n",
        "  \n",
        "# Authenticate and create the PyDrive client.\n",
        "auth.authenticate_user()\n",
        "gauth = GoogleAuth()\n",
        "gauth.credentials = GoogleCredentials.get_application_default()\n",
        "drive = GoogleDrive(gauth)"
      ],
      "execution_count": 1,
      "outputs": []
    },
    {
      "cell_type": "markdown",
      "metadata": {
        "id": "A-P1mUilr3Dc"
      },
      "source": [
        "Importing fake news data"
      ]
    },
    {
      "cell_type": "code",
      "metadata": {
        "id": "mxMY2NTLzJ7x",
        "colab": {
          "base_uri": "https://localhost:8080/",
          "height": 402
        },
        "outputId": "8e658fcb-9a8c-47dd-f431-815e35952759"
      },
      "source": [
        "#importing fake news data\n",
        "link = 'https://drive.google.com/file/d/1BdDAqSxMm2qzNaNkfO6bOAyPDqzrQbZJ/view?usp=sharing'\n",
        "  \n",
        "import pandas as pd\n",
        "  \n",
        "# to get the id part of the file\n",
        "id = link.split(\"/\")[-2]\n",
        "  \n",
        "downloaded = drive.CreateFile({'id':id}) \n",
        "downloaded.GetContentFile('Fake.csv')  \n",
        "  \n",
        "data_fake = pd.read_csv('Fake.csv')\n",
        "data_fake"
      ],
      "execution_count": 2,
      "outputs": [
        {
          "output_type": "execute_result",
          "data": {
            "text/html": [
              "<div>\n",
              "<style scoped>\n",
              "    .dataframe tbody tr th:only-of-type {\n",
              "        vertical-align: middle;\n",
              "    }\n",
              "\n",
              "    .dataframe tbody tr th {\n",
              "        vertical-align: top;\n",
              "    }\n",
              "\n",
              "    .dataframe thead th {\n",
              "        text-align: right;\n",
              "    }\n",
              "</style>\n",
              "<table border=\"1\" class=\"dataframe\">\n",
              "  <thead>\n",
              "    <tr style=\"text-align: right;\">\n",
              "      <th></th>\n",
              "      <th>title</th>\n",
              "      <th>text</th>\n",
              "      <th>subject</th>\n",
              "      <th>date</th>\n",
              "    </tr>\n",
              "  </thead>\n",
              "  <tbody>\n",
              "    <tr>\n",
              "      <th>0</th>\n",
              "      <td>Donald Trump Sends Out Embarrassing New Year’...</td>\n",
              "      <td>Donald Trump just couldn t wish all Americans ...</td>\n",
              "      <td>News</td>\n",
              "      <td>December 31, 2017</td>\n",
              "    </tr>\n",
              "    <tr>\n",
              "      <th>1</th>\n",
              "      <td>Drunk Bragging Trump Staffer Started Russian ...</td>\n",
              "      <td>House Intelligence Committee Chairman Devin Nu...</td>\n",
              "      <td>News</td>\n",
              "      <td>December 31, 2017</td>\n",
              "    </tr>\n",
              "    <tr>\n",
              "      <th>2</th>\n",
              "      <td>Sheriff David Clarke Becomes An Internet Joke...</td>\n",
              "      <td>On Friday, it was revealed that former Milwauk...</td>\n",
              "      <td>News</td>\n",
              "      <td>December 30, 2017</td>\n",
              "    </tr>\n",
              "    <tr>\n",
              "      <th>3</th>\n",
              "      <td>Trump Is So Obsessed He Even Has Obama’s Name...</td>\n",
              "      <td>On Christmas day, Donald Trump announced that ...</td>\n",
              "      <td>News</td>\n",
              "      <td>December 29, 2017</td>\n",
              "    </tr>\n",
              "    <tr>\n",
              "      <th>4</th>\n",
              "      <td>Pope Francis Just Called Out Donald Trump Dur...</td>\n",
              "      <td>Pope Francis used his annual Christmas Day mes...</td>\n",
              "      <td>News</td>\n",
              "      <td>December 25, 2017</td>\n",
              "    </tr>\n",
              "    <tr>\n",
              "      <th>...</th>\n",
              "      <td>...</td>\n",
              "      <td>...</td>\n",
              "      <td>...</td>\n",
              "      <td>...</td>\n",
              "    </tr>\n",
              "    <tr>\n",
              "      <th>23476</th>\n",
              "      <td>McPain: John McCain Furious That Iran Treated ...</td>\n",
              "      <td>21st Century Wire says As 21WIRE reported earl...</td>\n",
              "      <td>Middle-east</td>\n",
              "      <td>January 16, 2016</td>\n",
              "    </tr>\n",
              "    <tr>\n",
              "      <th>23477</th>\n",
              "      <td>JUSTICE? Yahoo Settles E-mail Privacy Class-ac...</td>\n",
              "      <td>21st Century Wire says It s a familiar theme. ...</td>\n",
              "      <td>Middle-east</td>\n",
              "      <td>January 16, 2016</td>\n",
              "    </tr>\n",
              "    <tr>\n",
              "      <th>23478</th>\n",
              "      <td>Sunnistan: US and Allied ‘Safe Zone’ Plan to T...</td>\n",
              "      <td>Patrick Henningsen  21st Century WireRemember ...</td>\n",
              "      <td>Middle-east</td>\n",
              "      <td>January 15, 2016</td>\n",
              "    </tr>\n",
              "    <tr>\n",
              "      <th>23479</th>\n",
              "      <td>How to Blow $700 Million: Al Jazeera America F...</td>\n",
              "      <td>21st Century Wire says Al Jazeera America will...</td>\n",
              "      <td>Middle-east</td>\n",
              "      <td>January 14, 2016</td>\n",
              "    </tr>\n",
              "    <tr>\n",
              "      <th>23480</th>\n",
              "      <td>10 U.S. Navy Sailors Held by Iranian Military ...</td>\n",
              "      <td>21st Century Wire says As 21WIRE predicted in ...</td>\n",
              "      <td>Middle-east</td>\n",
              "      <td>January 12, 2016</td>\n",
              "    </tr>\n",
              "  </tbody>\n",
              "</table>\n",
              "<p>23481 rows × 4 columns</p>\n",
              "</div>"
            ],
            "text/plain": [
              "                                                   title  ...               date\n",
              "0       Donald Trump Sends Out Embarrassing New Year’...  ...  December 31, 2017\n",
              "1       Drunk Bragging Trump Staffer Started Russian ...  ...  December 31, 2017\n",
              "2       Sheriff David Clarke Becomes An Internet Joke...  ...  December 30, 2017\n",
              "3       Trump Is So Obsessed He Even Has Obama’s Name...  ...  December 29, 2017\n",
              "4       Pope Francis Just Called Out Donald Trump Dur...  ...  December 25, 2017\n",
              "...                                                  ...  ...                ...\n",
              "23476  McPain: John McCain Furious That Iran Treated ...  ...   January 16, 2016\n",
              "23477  JUSTICE? Yahoo Settles E-mail Privacy Class-ac...  ...   January 16, 2016\n",
              "23478  Sunnistan: US and Allied ‘Safe Zone’ Plan to T...  ...   January 15, 2016\n",
              "23479  How to Blow $700 Million: Al Jazeera America F...  ...   January 14, 2016\n",
              "23480  10 U.S. Navy Sailors Held by Iranian Military ...  ...   January 12, 2016\n",
              "\n",
              "[23481 rows x 4 columns]"
            ]
          },
          "metadata": {
            "tags": []
          },
          "execution_count": 2
        }
      ]
    },
    {
      "cell_type": "markdown",
      "metadata": {
        "id": "O0VPx91orx9O"
      },
      "source": [
        "Importing true news data"
      ]
    },
    {
      "cell_type": "code",
      "metadata": {
        "id": "aUdSzQ0azPfi",
        "colab": {
          "base_uri": "https://localhost:8080/",
          "height": 402
        },
        "outputId": "51c9f130-acdf-4f0d-b336-1f98f2590a66"
      },
      "source": [
        "link = 'https://drive.google.com/file/d/1irFnB2bI1C_B3SwH4d8tFFNo1Y7yUSon/view?usp=sharing'\n",
        "  \n",
        "import pandas as pd\n",
        "  \n",
        "# to get the id part of the file\n",
        "id = link.split(\"/\")[-2]\n",
        "  \n",
        "downloaded = drive.CreateFile({'id':id}) \n",
        "downloaded.GetContentFile('True.csv')  \n",
        "  \n",
        "data_true = pd.read_csv('True.csv')\n",
        "data_true"
      ],
      "execution_count": 3,
      "outputs": [
        {
          "output_type": "execute_result",
          "data": {
            "text/html": [
              "<div>\n",
              "<style scoped>\n",
              "    .dataframe tbody tr th:only-of-type {\n",
              "        vertical-align: middle;\n",
              "    }\n",
              "\n",
              "    .dataframe tbody tr th {\n",
              "        vertical-align: top;\n",
              "    }\n",
              "\n",
              "    .dataframe thead th {\n",
              "        text-align: right;\n",
              "    }\n",
              "</style>\n",
              "<table border=\"1\" class=\"dataframe\">\n",
              "  <thead>\n",
              "    <tr style=\"text-align: right;\">\n",
              "      <th></th>\n",
              "      <th>title</th>\n",
              "      <th>text</th>\n",
              "      <th>subject</th>\n",
              "      <th>date</th>\n",
              "    </tr>\n",
              "  </thead>\n",
              "  <tbody>\n",
              "    <tr>\n",
              "      <th>0</th>\n",
              "      <td>As U.S. budget fight looms, Republicans flip t...</td>\n",
              "      <td>WASHINGTON (Reuters) - The head of a conservat...</td>\n",
              "      <td>politicsNews</td>\n",
              "      <td>December 31, 2017</td>\n",
              "    </tr>\n",
              "    <tr>\n",
              "      <th>1</th>\n",
              "      <td>U.S. military to accept transgender recruits o...</td>\n",
              "      <td>WASHINGTON (Reuters) - Transgender people will...</td>\n",
              "      <td>politicsNews</td>\n",
              "      <td>December 29, 2017</td>\n",
              "    </tr>\n",
              "    <tr>\n",
              "      <th>2</th>\n",
              "      <td>Senior U.S. Republican senator: 'Let Mr. Muell...</td>\n",
              "      <td>WASHINGTON (Reuters) - The special counsel inv...</td>\n",
              "      <td>politicsNews</td>\n",
              "      <td>December 31, 2017</td>\n",
              "    </tr>\n",
              "    <tr>\n",
              "      <th>3</th>\n",
              "      <td>FBI Russia probe helped by Australian diplomat...</td>\n",
              "      <td>WASHINGTON (Reuters) - Trump campaign adviser ...</td>\n",
              "      <td>politicsNews</td>\n",
              "      <td>December 30, 2017</td>\n",
              "    </tr>\n",
              "    <tr>\n",
              "      <th>4</th>\n",
              "      <td>Trump wants Postal Service to charge 'much mor...</td>\n",
              "      <td>SEATTLE/WASHINGTON (Reuters) - President Donal...</td>\n",
              "      <td>politicsNews</td>\n",
              "      <td>December 29, 2017</td>\n",
              "    </tr>\n",
              "    <tr>\n",
              "      <th>...</th>\n",
              "      <td>...</td>\n",
              "      <td>...</td>\n",
              "      <td>...</td>\n",
              "      <td>...</td>\n",
              "    </tr>\n",
              "    <tr>\n",
              "      <th>21412</th>\n",
              "      <td>'Fully committed' NATO backs new U.S. approach...</td>\n",
              "      <td>BRUSSELS (Reuters) - NATO allies on Tuesday we...</td>\n",
              "      <td>worldnews</td>\n",
              "      <td>August 22, 2017</td>\n",
              "    </tr>\n",
              "    <tr>\n",
              "      <th>21413</th>\n",
              "      <td>LexisNexis withdrew two products from Chinese ...</td>\n",
              "      <td>LONDON (Reuters) - LexisNexis, a provider of l...</td>\n",
              "      <td>worldnews</td>\n",
              "      <td>August 22, 2017</td>\n",
              "    </tr>\n",
              "    <tr>\n",
              "      <th>21414</th>\n",
              "      <td>Minsk cultural hub becomes haven from authorities</td>\n",
              "      <td>MINSK (Reuters) - In the shadow of disused Sov...</td>\n",
              "      <td>worldnews</td>\n",
              "      <td>August 22, 2017</td>\n",
              "    </tr>\n",
              "    <tr>\n",
              "      <th>21415</th>\n",
              "      <td>Vatican upbeat on possibility of Pope Francis ...</td>\n",
              "      <td>MOSCOW (Reuters) - Vatican Secretary of State ...</td>\n",
              "      <td>worldnews</td>\n",
              "      <td>August 22, 2017</td>\n",
              "    </tr>\n",
              "    <tr>\n",
              "      <th>21416</th>\n",
              "      <td>Indonesia to buy $1.14 billion worth of Russia...</td>\n",
              "      <td>JAKARTA (Reuters) - Indonesia will buy 11 Sukh...</td>\n",
              "      <td>worldnews</td>\n",
              "      <td>August 22, 2017</td>\n",
              "    </tr>\n",
              "  </tbody>\n",
              "</table>\n",
              "<p>21417 rows × 4 columns</p>\n",
              "</div>"
            ],
            "text/plain": [
              "                                                   title  ...                date\n",
              "0      As U.S. budget fight looms, Republicans flip t...  ...  December 31, 2017 \n",
              "1      U.S. military to accept transgender recruits o...  ...  December 29, 2017 \n",
              "2      Senior U.S. Republican senator: 'Let Mr. Muell...  ...  December 31, 2017 \n",
              "3      FBI Russia probe helped by Australian diplomat...  ...  December 30, 2017 \n",
              "4      Trump wants Postal Service to charge 'much mor...  ...  December 29, 2017 \n",
              "...                                                  ...  ...                 ...\n",
              "21412  'Fully committed' NATO backs new U.S. approach...  ...    August 22, 2017 \n",
              "21413  LexisNexis withdrew two products from Chinese ...  ...    August 22, 2017 \n",
              "21414  Minsk cultural hub becomes haven from authorities  ...    August 22, 2017 \n",
              "21415  Vatican upbeat on possibility of Pope Francis ...  ...    August 22, 2017 \n",
              "21416  Indonesia to buy $1.14 billion worth of Russia...  ...    August 22, 2017 \n",
              "\n",
              "[21417 rows x 4 columns]"
            ]
          },
          "metadata": {
            "tags": []
          },
          "execution_count": 3
        }
      ]
    },
    {
      "cell_type": "markdown",
      "metadata": {
        "id": "uuD1pxvurUI-"
      },
      "source": [
        "Labelling fake and true data and combining them to a single data frame. Shuffling the ordered data and choosing a short segment of it because of computational limits of free google colab."
      ]
    },
    {
      "cell_type": "code",
      "metadata": {
        "id": "5b--XGnm6omn",
        "colab": {
          "base_uri": "https://localhost:8080/",
          "height": 402
        },
        "outputId": "a408b084-5bd7-49a1-e2cf-e592314046c8"
      },
      "source": [
        "data_fake['target'] = 'fake'\n",
        "data_true['target'] = 'true'\n",
        "news_data = pd.concat([data_fake, data_true]).reset_index(drop = True)\n",
        "news_data = shuffle(news_data)\n",
        "news_data = news_data.reset_index(drop=True)\n",
        "news_data\n",
        "#Reducing rows to reduce load\n",
        "news_data=news_data.iloc[32000:40000,:]\n",
        "news_data"
      ],
      "execution_count": 4,
      "outputs": [
        {
          "output_type": "execute_result",
          "data": {
            "text/html": [
              "<div>\n",
              "<style scoped>\n",
              "    .dataframe tbody tr th:only-of-type {\n",
              "        vertical-align: middle;\n",
              "    }\n",
              "\n",
              "    .dataframe tbody tr th {\n",
              "        vertical-align: top;\n",
              "    }\n",
              "\n",
              "    .dataframe thead th {\n",
              "        text-align: right;\n",
              "    }\n",
              "</style>\n",
              "<table border=\"1\" class=\"dataframe\">\n",
              "  <thead>\n",
              "    <tr style=\"text-align: right;\">\n",
              "      <th></th>\n",
              "      <th>title</th>\n",
              "      <th>text</th>\n",
              "      <th>subject</th>\n",
              "      <th>date</th>\n",
              "      <th>target</th>\n",
              "    </tr>\n",
              "  </thead>\n",
              "  <tbody>\n",
              "    <tr>\n",
              "      <th>32000</th>\n",
              "      <td>BREAKING: TWO RUSSIAN NAVY SPY SHIPS OPERATING...</td>\n",
              "      <td>Attacks against us are increasing in frequenc...</td>\n",
              "      <td>Government News</td>\n",
              "      <td>Apr 7, 2015</td>\n",
              "      <td>fake</td>\n",
              "    </tr>\n",
              "    <tr>\n",
              "      <th>32001</th>\n",
              "      <td>Drug enforcement chief criticizes Trump in ema...</td>\n",
              "      <td>WASHINGTON (Reuters) - The U.S. Drug Enforceme...</td>\n",
              "      <td>politicsNews</td>\n",
              "      <td>August 1, 2017</td>\n",
              "      <td>true</td>\n",
              "    </tr>\n",
              "    <tr>\n",
              "      <th>32002</th>\n",
              "      <td>House Intelligence postpones closed session wi...</td>\n",
              "      <td>WASHINGTON (Reuters) - The U.S. House of Repre...</td>\n",
              "      <td>politicsNews</td>\n",
              "      <td>March 27, 2017</td>\n",
              "      <td>true</td>\n",
              "    </tr>\n",
              "    <tr>\n",
              "      <th>32003</th>\n",
              "      <td>Tillerson says would support maintaining Russi...</td>\n",
              "      <td>WASHINGTON (Reuters) - President-elect Donald ...</td>\n",
              "      <td>politicsNews</td>\n",
              "      <td>January 11, 2017</td>\n",
              "      <td>true</td>\n",
              "    </tr>\n",
              "    <tr>\n",
              "      <th>32004</th>\n",
              "      <td>BOOM! This Is How President Reagan Handled Pro...</td>\n",
              "      <td>Ronald Reagan shut down the Berkeley protests ...</td>\n",
              "      <td>Government News</td>\n",
              "      <td>Nov 11, 2016</td>\n",
              "      <td>fake</td>\n",
              "    </tr>\n",
              "    <tr>\n",
              "      <th>...</th>\n",
              "      <td>...</td>\n",
              "      <td>...</td>\n",
              "      <td>...</td>\n",
              "      <td>...</td>\n",
              "      <td>...</td>\n",
              "    </tr>\n",
              "    <tr>\n",
              "      <th>39995</th>\n",
              "      <td>POWERFUL: A RAPE SURVIVOR EXPLAINS Why Men Sho...</td>\n",
              "      <td>This is a powerful story of a courageous young...</td>\n",
              "      <td>left-news</td>\n",
              "      <td>Apr 21, 2016</td>\n",
              "      <td>fake</td>\n",
              "    </tr>\n",
              "    <tr>\n",
              "      <th>39996</th>\n",
              "      <td>BRILLIANT! TUCKER CARLSON and AYAAN HIRSI ALI ...</td>\n",
              "      <td></td>\n",
              "      <td>politics</td>\n",
              "      <td>Mar 22, 2017</td>\n",
              "      <td>fake</td>\n",
              "    </tr>\n",
              "    <tr>\n",
              "      <th>39997</th>\n",
              "      <td>Just When Hillary Thought The News About Her C...</td>\n",
              "      <td>How this woman is even trending in the polls s...</td>\n",
              "      <td>politics</td>\n",
              "      <td>Oct 3, 2015</td>\n",
              "      <td>fake</td>\n",
              "    </tr>\n",
              "    <tr>\n",
              "      <th>39998</th>\n",
              "      <td>Maine’s Horrible Governor Just Outright Decla...</td>\n",
              "      <td>Paul LePage, who might as well be Maine s vers...</td>\n",
              "      <td>News</td>\n",
              "      <td>August 26, 2016</td>\n",
              "      <td>fake</td>\n",
              "    </tr>\n",
              "    <tr>\n",
              "      <th>39999</th>\n",
              "      <td>Trump promises to work with NATO to defeat Isl...</td>\n",
              "      <td>YOUNGSTOWN, Ohio (Reuters) - Republican Donald...</td>\n",
              "      <td>politicsNews</td>\n",
              "      <td>August 15, 2016</td>\n",
              "      <td>true</td>\n",
              "    </tr>\n",
              "  </tbody>\n",
              "</table>\n",
              "<p>8000 rows × 5 columns</p>\n",
              "</div>"
            ],
            "text/plain": [
              "                                                   title  ... target\n",
              "32000  BREAKING: TWO RUSSIAN NAVY SPY SHIPS OPERATING...  ...   fake\n",
              "32001  Drug enforcement chief criticizes Trump in ema...  ...   true\n",
              "32002  House Intelligence postpones closed session wi...  ...   true\n",
              "32003  Tillerson says would support maintaining Russi...  ...   true\n",
              "32004  BOOM! This Is How President Reagan Handled Pro...  ...   fake\n",
              "...                                                  ...  ...    ...\n",
              "39995  POWERFUL: A RAPE SURVIVOR EXPLAINS Why Men Sho...  ...   fake\n",
              "39996  BRILLIANT! TUCKER CARLSON and AYAAN HIRSI ALI ...  ...   fake\n",
              "39997  Just When Hillary Thought The News About Her C...  ...   fake\n",
              "39998   Maine’s Horrible Governor Just Outright Decla...  ...   fake\n",
              "39999  Trump promises to work with NATO to defeat Isl...  ...   true\n",
              "\n",
              "[8000 rows x 5 columns]"
            ]
          },
          "metadata": {
            "tags": []
          },
          "execution_count": 4
        }
      ]
    },
    {
      "cell_type": "markdown",
      "metadata": {
        "id": "Q4srYbS2r70d"
      },
      "source": [
        "Checking for any missing entries in the data"
      ]
    },
    {
      "cell_type": "code",
      "metadata": {
        "id": "ujnT3x9rMiti",
        "colab": {
          "base_uri": "https://localhost:8080/"
        },
        "outputId": "dd1ff1ee-16de-4c76-f6dc-f95904c52e04"
      },
      "source": [
        "print(\"Number of missing elements from title\\t:\", news_data[news_data['title'].isna()].shape[0])\n",
        "print(\"Number of missing elements from text\\t:\", news_data[news_data['text'].isna()].shape[0])\n",
        "print(\"Number of missing elements from subject\\t:\", news_data[news_data['subject'].isna()].shape[0])\n",
        "print(\"Number of missing elements from date\\t:\", news_data[news_data['date'].isna()].shape[0])\n",
        "print(\"Number of missing elements from target\\t:\", news_data[news_data['target'].isna()].shape[0])"
      ],
      "execution_count": 5,
      "outputs": [
        {
          "output_type": "stream",
          "text": [
            "Number of missing elements from title\t: 0\n",
            "Number of missing elements from text\t: 0\n",
            "Number of missing elements from subject\t: 0\n",
            "Number of missing elements from date\t: 0\n",
            "Number of missing elements from target\t: 0\n"
          ],
          "name": "stdout"
        }
      ]
    },
    {
      "cell_type": "markdown",
      "metadata": {
        "id": "hK-ejxrssA7L"
      },
      "source": [
        "As there are no missing entries we move forward. Now removing date column as it isn't a good feature for classification. Combining the text, title, subject colums data into a single row for reducing features."
      ]
    },
    {
      "cell_type": "code",
      "metadata": {
        "id": "edXsq9SL-NYg",
        "colab": {
          "base_uri": "https://localhost:8080/",
          "height": 246
        },
        "outputId": "df6440b0-c2de-451e-c655-1b9100a6df84"
      },
      "source": [
        "news_data.drop([\"date\"],axis=1,inplace=True)\n",
        "news_data['title_text_subject'] = news_data['title'] + news_data['text'] + news_data['subject']\n",
        "news_data.head()\n"
      ],
      "execution_count": 6,
      "outputs": [
        {
          "output_type": "execute_result",
          "data": {
            "text/html": [
              "<div>\n",
              "<style scoped>\n",
              "    .dataframe tbody tr th:only-of-type {\n",
              "        vertical-align: middle;\n",
              "    }\n",
              "\n",
              "    .dataframe tbody tr th {\n",
              "        vertical-align: top;\n",
              "    }\n",
              "\n",
              "    .dataframe thead th {\n",
              "        text-align: right;\n",
              "    }\n",
              "</style>\n",
              "<table border=\"1\" class=\"dataframe\">\n",
              "  <thead>\n",
              "    <tr style=\"text-align: right;\">\n",
              "      <th></th>\n",
              "      <th>title</th>\n",
              "      <th>text</th>\n",
              "      <th>subject</th>\n",
              "      <th>target</th>\n",
              "      <th>title_text_subject</th>\n",
              "    </tr>\n",
              "  </thead>\n",
              "  <tbody>\n",
              "    <tr>\n",
              "      <th>32000</th>\n",
              "      <td>BREAKING: TWO RUSSIAN NAVY SPY SHIPS OPERATING...</td>\n",
              "      <td>Attacks against us are increasing in frequenc...</td>\n",
              "      <td>Government News</td>\n",
              "      <td>fake</td>\n",
              "      <td>BREAKING: TWO RUSSIAN NAVY SPY SHIPS OPERATING...</td>\n",
              "    </tr>\n",
              "    <tr>\n",
              "      <th>32001</th>\n",
              "      <td>Drug enforcement chief criticizes Trump in ema...</td>\n",
              "      <td>WASHINGTON (Reuters) - The U.S. Drug Enforceme...</td>\n",
              "      <td>politicsNews</td>\n",
              "      <td>true</td>\n",
              "      <td>Drug enforcement chief criticizes Trump in ema...</td>\n",
              "    </tr>\n",
              "    <tr>\n",
              "      <th>32002</th>\n",
              "      <td>House Intelligence postpones closed session wi...</td>\n",
              "      <td>WASHINGTON (Reuters) - The U.S. House of Repre...</td>\n",
              "      <td>politicsNews</td>\n",
              "      <td>true</td>\n",
              "      <td>House Intelligence postpones closed session wi...</td>\n",
              "    </tr>\n",
              "    <tr>\n",
              "      <th>32003</th>\n",
              "      <td>Tillerson says would support maintaining Russi...</td>\n",
              "      <td>WASHINGTON (Reuters) - President-elect Donald ...</td>\n",
              "      <td>politicsNews</td>\n",
              "      <td>true</td>\n",
              "      <td>Tillerson says would support maintaining Russi...</td>\n",
              "    </tr>\n",
              "    <tr>\n",
              "      <th>32004</th>\n",
              "      <td>BOOM! This Is How President Reagan Handled Pro...</td>\n",
              "      <td>Ronald Reagan shut down the Berkeley protests ...</td>\n",
              "      <td>Government News</td>\n",
              "      <td>fake</td>\n",
              "      <td>BOOM! This Is How President Reagan Handled Pro...</td>\n",
              "    </tr>\n",
              "  </tbody>\n",
              "</table>\n",
              "</div>"
            ],
            "text/plain": [
              "                                                   title  ...                                 title_text_subject\n",
              "32000  BREAKING: TWO RUSSIAN NAVY SPY SHIPS OPERATING...  ...  BREAKING: TWO RUSSIAN NAVY SPY SHIPS OPERATING...\n",
              "32001  Drug enforcement chief criticizes Trump in ema...  ...  Drug enforcement chief criticizes Trump in ema...\n",
              "32002  House Intelligence postpones closed session wi...  ...  House Intelligence postpones closed session wi...\n",
              "32003  Tillerson says would support maintaining Russi...  ...  Tillerson says would support maintaining Russi...\n",
              "32004  BOOM! This Is How President Reagan Handled Pro...  ...  BOOM! This Is How President Reagan Handled Pro...\n",
              "\n",
              "[5 rows x 5 columns]"
            ]
          },
          "metadata": {
            "tags": []
          },
          "execution_count": 6
        }
      ]
    },
    {
      "cell_type": "markdown",
      "metadata": {
        "id": "Vg9Oad2wsV-I"
      },
      "source": [
        "Counting of the No. of fake and true cases in our combined set"
      ]
    },
    {
      "cell_type": "code",
      "metadata": {
        "id": "nWSydH-nACYs",
        "colab": {
          "base_uri": "https://localhost:8080/"
        },
        "outputId": "0d2f76dd-f484-487d-8568-0bc3c81922a1"
      },
      "source": [
        "number_of_fake_arcs = news_data.loc[news_data['target'] == 'fake'].count()[0]\n",
        "number_of_true_arcs = news_data.loc[news_data['target'] == 'true'].count()[0]\n",
        "print(\"Number of fake samples\",number_of_fake_arcs)\n",
        "print(\"Number of true samples\",number_of_true_arcs)"
      ],
      "execution_count": 7,
      "outputs": [
        {
          "output_type": "stream",
          "text": [
            "Number of fake samples 4214\n",
            "Number of true samples 3786\n"
          ],
          "name": "stdout"
        }
      ]
    },
    {
      "cell_type": "markdown",
      "metadata": {
        "id": "7kBDNL8usf5V"
      },
      "source": [
        "**Data Pre-processing**"
      ]
    },
    {
      "cell_type": "markdown",
      "metadata": {
        "id": "cA8dlycpspdR"
      },
      "source": [
        "Making the data lowercase"
      ]
    },
    {
      "cell_type": "code",
      "metadata": {
        "id": "4phzzThqCk9q",
        "colab": {
          "base_uri": "https://localhost:8080/"
        },
        "outputId": "b652fa1c-d522-4b3f-9869-a60c312d7d3e"
      },
      "source": [
        "news_data['title_text_subject'] = news_data['title_text_subject'].apply(lambda x: x.lower())\n",
        "news_data['title_text_subject']"
      ],
      "execution_count": 8,
      "outputs": [
        {
          "output_type": "execute_result",
          "data": {
            "text/plain": [
              "32000    breaking: two russian navy spy ships operating...\n",
              "32001    drug enforcement chief criticizes trump in ema...\n",
              "32002    house intelligence postpones closed session wi...\n",
              "32003    tillerson says would support maintaining russi...\n",
              "32004    boom! this is how president reagan handled pro...\n",
              "                               ...                        \n",
              "39995    powerful: a rape survivor explains why men sho...\n",
              "39996    brilliant! tucker carlson and ayaan hirsi ali ...\n",
              "39997    just when hillary thought the news about her c...\n",
              "39998     maine’s horrible governor just outright decla...\n",
              "39999    trump promises to work with nato to defeat isl...\n",
              "Name: title_text_subject, Length: 8000, dtype: object"
            ]
          },
          "metadata": {
            "tags": []
          },
          "execution_count": 8
        }
      ]
    },
    {
      "cell_type": "markdown",
      "metadata": {
        "id": "6zBv1AzFsvSJ"
      },
      "source": [
        "Removing stopwords from the data"
      ]
    },
    {
      "cell_type": "code",
      "metadata": {
        "colab": {
          "base_uri": "https://localhost:8080/"
        },
        "id": "IrGIT3pJmjl4",
        "outputId": "5a218302-400c-49a0-cf81-275237ae5a39"
      },
      "source": [
        "nltk.download('stopwords')\n",
        "from nltk.corpus import stopwords\n",
        "wordstop = stopwords.words('english')\n",
        "news_data['title_text_subject'] = news_data['title_text_subject'].apply(lambda x: ' '.join([word for word in x.split() if word not in (wordstop)]))\n",
        "news_data['title_text_subject']"
      ],
      "execution_count": 9,
      "outputs": [
        {
          "output_type": "stream",
          "text": [
            "[nltk_data] Downloading package stopwords to /root/nltk_data...\n",
            "[nltk_data]   Unzipping corpora/stopwords.zip.\n"
          ],
          "name": "stdout"
        },
        {
          "output_type": "execute_result",
          "data": {
            "text/plain": [
              "32000    breaking: two russian navy spy ships operating...\n",
              "32001    drug enforcement chief criticizes trump email ...\n",
              "32002    house intelligence postpones closed session fb...\n",
              "32003    tillerson says would support maintaining russi...\n",
              "32004    boom! president reagan handled protesters: “ne...\n",
              "                               ...                        \n",
              "39995    powerful: rape survivor explains men never all...\n",
              "39996    brilliant! tucker carlson ayaan hirsi ali disc...\n",
              "39997    hillary thought news couldn’t get worse…this b...\n",
              "39998    maine’s horrible governor outright declared bl...\n",
              "39999    trump promises work nato defeat islamic statey...\n",
              "Name: title_text_subject, Length: 8000, dtype: object"
            ]
          },
          "metadata": {
            "tags": []
          },
          "execution_count": 9
        }
      ]
    },
    {
      "cell_type": "markdown",
      "metadata": {
        "id": "cdGK40U3s5z_"
      },
      "source": [
        "Converting data available as words into numbers using CountVectorizer "
      ]
    },
    {
      "cell_type": "code",
      "metadata": {
        "id": "FIgxfF1sBN6z",
        "colab": {
          "base_uri": "https://localhost:8080/"
        },
        "outputId": "db408cfb-8bc2-4ae8-c2f7-f82fb8b6c95b"
      },
      "source": [
        "prof_vector = CountVectorizer()\n",
        "A = prof_vector.fit_transform(news_data['title_text_subject'].values)\n",
        "A = A.toarray()\n",
        "A.shape"
      ],
      "execution_count": 10,
      "outputs": [
        {
          "output_type": "execute_result",
          "data": {
            "text/plain": [
              "(8000, 62784)"
            ]
          },
          "metadata": {
            "tags": []
          },
          "execution_count": 10
        }
      ]
    },
    {
      "cell_type": "markdown",
      "metadata": {
        "id": "BSqUJRYpNojk"
      },
      "source": [
        "**Naive Bayes classifier**"
      ]
    },
    {
      "cell_type": "markdown",
      "metadata": {
        "id": "Z97kF3jYtJiZ"
      },
      "source": [
        "Splitting the data into 20% training and 80% test sets"
      ]
    },
    {
      "cell_type": "code",
      "metadata": {
        "id": "rXKsfCKMNS_f"
      },
      "source": [
        "Y = news_data['target'].values\n",
        "A_train, A_test, Y_train, Y_test = train_test_split(A, Y, shuffle=True, test_size=0.2, random_state=2)"
      ],
      "execution_count": 11,
      "outputs": []
    },
    {
      "cell_type": "markdown",
      "metadata": {
        "id": "cxaRzdVmtOYu"
      },
      "source": [
        "Training the Multinomial Naïve Bayes classifier on training data"
      ]
    },
    {
      "cell_type": "code",
      "metadata": {
        "id": "MsOcGHE8OYq6",
        "colab": {
          "base_uri": "https://localhost:8080/"
        },
        "outputId": "164a2d33-063d-4c15-9f40-c6cc2f53525f"
      },
      "source": [
        "SADclassif = MultinomialNB(alpha=2)\n",
        "SADclassif.fit(A_train, Y_train)"
      ],
      "execution_count": 12,
      "outputs": [
        {
          "output_type": "execute_result",
          "data": {
            "text/plain": [
              "MultinomialNB(alpha=2, class_prior=None, fit_prior=True)"
            ]
          },
          "metadata": {
            "tags": []
          },
          "execution_count": 12
        }
      ]
    },
    {
      "cell_type": "markdown",
      "metadata": {
        "id": "LzSN2TfytadR"
      },
      "source": [
        "Calculating the accuracy score of the classifier"
      ]
    },
    {
      "cell_type": "code",
      "metadata": {
        "id": "PrVev4ByOohs",
        "colab": {
          "base_uri": "https://localhost:8080/"
        },
        "outputId": "eedcfcea-0d49-414c-d4f1-3489f712fc36"
      },
      "source": [
        "print(SADclassif.score(A_train, Y_train))\n",
        "print(SADclassif.score(A_test, Y_test))"
      ],
      "execution_count": 13,
      "outputs": [
        {
          "output_type": "stream",
          "text": [
            "0.974375\n",
            "0.9575\n"
          ],
          "name": "stdout"
        }
      ]
    },
    {
      "cell_type": "markdown",
      "metadata": {
        "id": "9-SFqQtHtkVE"
      },
      "source": [
        "Evaluating the model using confusion matrix ploted using heatmap\n",
        "\n",
        "---\n",
        "\n"
      ]
    },
    {
      "cell_type": "code",
      "metadata": {
        "id": "sdBSdnzzQLFh"
      },
      "source": [
        "prediction_results = SADclassif.predict(A_test)\n",
        "confused = confusion_matrix(Y_test, prediction_results)"
      ],
      "execution_count": 14,
      "outputs": []
    },
    {
      "cell_type": "code",
      "metadata": {
        "id": "Q6tAEGFCRztN",
        "colab": {
          "base_uri": "https://localhost:8080/",
          "height": 388
        },
        "outputId": "9828b7f8-ce16-4aba-ae1a-7bba6764585a"
      },
      "source": [
        "plt.figure(figsize=(6,6))\n",
        "sns.heatmap(confused, annot=True, fmt='d', xticklabels=['FAKE', 'TRUE'], yticklabels=['FAKE', 'TRUE'], cmap=plt.cm.Blues, cbar=False)\n",
        "plt.xlabel('Predicted Label')\n",
        "plt.ylabel('True Label')\n",
        "plt.show()"
      ],
      "execution_count": 16,
      "outputs": [
        {
          "output_type": "display_data",
          "data": {
            "image/png": "[encoded data removed]",
            "text/plain": [
              "<Figure size 432x432 with 1 Axes>"
            ]
          },
          "metadata": {
            "tags": [],
            "needs_background": "light"
          }
        }
      ]
    }
  ]
}